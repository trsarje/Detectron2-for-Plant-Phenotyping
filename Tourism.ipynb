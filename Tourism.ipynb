{
  "nbformat": 4,
  "nbformat_minor": 0,
  "metadata": {
    "colab": {
      "name": "Tourism.ipynb",
      "provenance": [],
      "collapsed_sections": [],
      "include_colab_link": true
    },
    "kernelspec": {
      "name": "python3",
      "display_name": "Python 3"
    }
  },
  "cells": [
    {
      "cell_type": "markdown",
      "metadata": {
        "id": "view-in-github",
        "colab_type": "text"
      },
      "source": [
        "<a href=\"https://colab.research.google.com/github/trsarje/Detectron2-for-Plant-Phenotyping/blob/master/Tourism.ipynb\" target=\"_parent\"><img src=\"https://colab.research.google.com/assets/colab-badge.svg\" alt=\"Open In Colab\"/></a>"
      ]
    },
    {
      "cell_type": "code",
      "metadata": {
        "id": "Lb8vn9uo3VTj",
        "outputId": "a7042791-a547-4073-c2d9-082ec0b6dc7b",
        "colab": {
          "base_uri": "https://localhost:8080/"
        }
      },
      "source": [
        "from google.colab import drive\n",
        "drive.mount('/content/drive')"
      ],
      "execution_count": 1,
      "outputs": [
        {
          "output_type": "stream",
          "text": [
            "Mounted at /content/drive\n"
          ],
          "name": "stdout"
        }
      ]
    },
    {
      "cell_type": "code",
      "metadata": {
        "id": "lcAhyCesZcAO",
        "outputId": "d6e3d8d8-a473-4810-dc27-03aebb6ddde1",
        "colab": {
          "base_uri": "https://localhost:8080/"
        }
      },
      "source": [
        "! pip install newspaper3k"
      ],
      "execution_count": 2,
      "outputs": [
        {
          "output_type": "stream",
          "text": [
            "Collecting newspaper3k\n",
            "\u001b[?25l  Downloading https://files.pythonhosted.org/packages/d7/b9/51afecb35bb61b188a4b44868001de348a0e8134b4dfa00ffc191567c4b9/newspaper3k-0.2.8-py3-none-any.whl (211kB)\n",
            "\r\u001b[K     |█▌                              | 10kB 16.8MB/s eta 0:00:01\r\u001b[K     |███                             | 20kB 13.4MB/s eta 0:00:01\r\u001b[K     |████▋                           | 30kB 9.1MB/s eta 0:00:01\r\u001b[K     |██████▏                         | 40kB 8.4MB/s eta 0:00:01\r\u001b[K     |███████▊                        | 51kB 5.3MB/s eta 0:00:01\r\u001b[K     |█████████▎                      | 61kB 5.2MB/s eta 0:00:01\r\u001b[K     |██████████▉                     | 71kB 5.7MB/s eta 0:00:01\r\u001b[K     |████████████▍                   | 81kB 6.3MB/s eta 0:00:01\r\u001b[K     |██████████████                  | 92kB 6.2MB/s eta 0:00:01\r\u001b[K     |███████████████▌                | 102kB 6.7MB/s eta 0:00:01\r\u001b[K     |█████████████████               | 112kB 6.7MB/s eta 0:00:01\r\u001b[K     |██████████████████▋             | 122kB 6.7MB/s eta 0:00:01\r\u001b[K     |████████████████████▏           | 133kB 6.7MB/s eta 0:00:01\r\u001b[K     |█████████████████████▊          | 143kB 6.7MB/s eta 0:00:01\r\u001b[K     |███████████████████████▎        | 153kB 6.7MB/s eta 0:00:01\r\u001b[K     |████████████████████████▉       | 163kB 6.7MB/s eta 0:00:01\r\u001b[K     |██████████████████████████▍     | 174kB 6.7MB/s eta 0:00:01\r\u001b[K     |████████████████████████████    | 184kB 6.7MB/s eta 0:00:01\r\u001b[K     |█████████████████████████████▌  | 194kB 6.7MB/s eta 0:00:01\r\u001b[K     |███████████████████████████████ | 204kB 6.7MB/s eta 0:00:01\r\u001b[K     |████████████████████████████████| 215kB 6.7MB/s \n",
            "\u001b[?25hRequirement already satisfied: lxml>=3.6.0 in /usr/local/lib/python3.6/dist-packages (from newspaper3k) (4.2.6)\n",
            "Requirement already satisfied: python-dateutil>=2.5.3 in /usr/local/lib/python3.6/dist-packages (from newspaper3k) (2.8.1)\n",
            "Requirement already satisfied: beautifulsoup4>=4.4.1 in /usr/local/lib/python3.6/dist-packages (from newspaper3k) (4.6.3)\n",
            "Requirement already satisfied: nltk>=3.2.1 in /usr/local/lib/python3.6/dist-packages (from newspaper3k) (3.2.5)\n",
            "Requirement already satisfied: Pillow>=3.3.0 in /usr/local/lib/python3.6/dist-packages (from newspaper3k) (7.0.0)\n",
            "Collecting jieba3k>=0.35.1\n",
            "\u001b[?25l  Downloading https://files.pythonhosted.org/packages/a9/cb/2c8332bcdc14d33b0bedd18ae0a4981a069c3513e445120da3c3f23a8aaa/jieba3k-0.35.1.zip (7.4MB)\n",
            "\u001b[K     |████████████████████████████████| 7.4MB 15.9MB/s \n",
            "\u001b[?25hCollecting cssselect>=0.9.2\n",
            "  Downloading https://files.pythonhosted.org/packages/3b/d4/3b5c17f00cce85b9a1e6f91096e1cc8e8ede2e1be8e96b87ce1ed09e92c5/cssselect-1.1.0-py2.py3-none-any.whl\n",
            "Requirement already satisfied: requests>=2.10.0 in /usr/local/lib/python3.6/dist-packages (from newspaper3k) (2.23.0)\n",
            "Collecting feedparser>=5.2.1\n",
            "\u001b[?25l  Downloading https://files.pythonhosted.org/packages/1c/21/faf1bac028662cc8adb2b5ef7a6f3999a765baa2835331df365289b0ca56/feedparser-6.0.2-py3-none-any.whl (80kB)\n",
            "\u001b[K     |████████████████████████████████| 81kB 9.9MB/s \n",
            "\u001b[?25hRequirement already satisfied: PyYAML>=3.11 in /usr/local/lib/python3.6/dist-packages (from newspaper3k) (3.13)\n",
            "Collecting tinysegmenter==0.3\n",
            "  Downloading https://files.pythonhosted.org/packages/17/82/86982e4b6d16e4febc79c2a1d68ee3b707e8a020c5d2bc4af8052d0f136a/tinysegmenter-0.3.tar.gz\n",
            "Collecting feedfinder2>=0.0.4\n",
            "  Downloading https://files.pythonhosted.org/packages/35/82/1251fefec3bb4b03fd966c7e7f7a41c9fc2bb00d823a34c13f847fd61406/feedfinder2-0.0.4.tar.gz\n",
            "Collecting tldextract>=2.0.1\n",
            "\u001b[?25l  Downloading https://files.pythonhosted.org/packages/ff/9e/578ea24d0149a5c179ded8ea53e2b8fc35d22f7bfdee9564844873b147ea/tldextract-3.0.2-py2.py3-none-any.whl (86kB)\n",
            "\u001b[K     |████████████████████████████████| 92kB 9.3MB/s \n",
            "\u001b[?25hRequirement already satisfied: six>=1.5 in /usr/local/lib/python3.6/dist-packages (from python-dateutil>=2.5.3->newspaper3k) (1.15.0)\n",
            "Requirement already satisfied: chardet<4,>=3.0.2 in /usr/local/lib/python3.6/dist-packages (from requests>=2.10.0->newspaper3k) (3.0.4)\n",
            "Requirement already satisfied: urllib3!=1.25.0,!=1.25.1,<1.26,>=1.21.1 in /usr/local/lib/python3.6/dist-packages (from requests>=2.10.0->newspaper3k) (1.24.3)\n",
            "Requirement already satisfied: idna<3,>=2.5 in /usr/local/lib/python3.6/dist-packages (from requests>=2.10.0->newspaper3k) (2.10)\n",
            "Requirement already satisfied: certifi>=2017.4.17 in /usr/local/lib/python3.6/dist-packages (from requests>=2.10.0->newspaper3k) (2020.6.20)\n",
            "Collecting sgmllib3k\n",
            "  Downloading https://files.pythonhosted.org/packages/9e/bd/3704a8c3e0942d711c1299ebf7b9091930adae6675d7c8f476a7ce48653c/sgmllib3k-1.0.0.tar.gz\n",
            "Requirement already satisfied: filelock>=3.0.8 in /usr/local/lib/python3.6/dist-packages (from tldextract>=2.0.1->newspaper3k) (3.0.12)\n",
            "Collecting requests-file>=1.4\n",
            "  Downloading https://files.pythonhosted.org/packages/77/86/cdb5e8eaed90796aa83a6d9f75cfbd37af553c47a291cd47bc410ef9bdb2/requests_file-1.5.1-py2.py3-none-any.whl\n",
            "Building wheels for collected packages: jieba3k, tinysegmenter, feedfinder2, sgmllib3k\n",
            "  Building wheel for jieba3k (setup.py) ... \u001b[?25l\u001b[?25hdone\n",
            "  Created wheel for jieba3k: filename=jieba3k-0.35.1-cp36-none-any.whl size=7398406 sha256=fda245ecdc5372bcf7a8b620cb2a88660d7259b143319f4b255257879f081a7c\n",
            "  Stored in directory: /root/.cache/pip/wheels/83/15/9c/a3f1f67e7f7181170ad37d32e503c35da20627c013f438ed34\n",
            "  Building wheel for tinysegmenter (setup.py) ... \u001b[?25l\u001b[?25hdone\n",
            "  Created wheel for tinysegmenter: filename=tinysegmenter-0.3-cp36-none-any.whl size=13538 sha256=b12e501a6d4afecf8bb76d5ccd354814b0f4e126f50de53997173788f69518d4\n",
            "  Stored in directory: /root/.cache/pip/wheels/81/2b/43/a02ede72324dd40cdd7ca53aad718c7710628e91b8b0dc0f02\n",
            "  Building wheel for feedfinder2 (setup.py) ... \u001b[?25l\u001b[?25hdone\n",
            "  Created wheel for feedfinder2: filename=feedfinder2-0.0.4-cp36-none-any.whl size=3355 sha256=fbd48985059d7a402dc5f654a49d145bd5790e4614a26e00763b25192502fa76\n",
            "  Stored in directory: /root/.cache/pip/wheels/de/03/ca/778e3a7a627e3d98836cc890e7cb40c7575424cfd3340f40ed\n",
            "  Building wheel for sgmllib3k (setup.py) ... \u001b[?25l\u001b[?25hdone\n",
            "  Created wheel for sgmllib3k: filename=sgmllib3k-1.0.0-cp36-none-any.whl size=6067 sha256=a9800f2dfb7e20be8f11074f626534272ab1405bbfe380ec5c6fc0013ef0dd05\n",
            "  Stored in directory: /root/.cache/pip/wheels/f1/80/5a/444ba08a550cdd241bd9baf8bae44be750efe370adb944506a\n",
            "Successfully built jieba3k tinysegmenter feedfinder2 sgmllib3k\n",
            "Installing collected packages: jieba3k, cssselect, sgmllib3k, feedparser, tinysegmenter, feedfinder2, requests-file, tldextract, newspaper3k\n",
            "Successfully installed cssselect-1.1.0 feedfinder2-0.0.4 feedparser-6.0.2 jieba3k-0.35.1 newspaper3k-0.2.8 requests-file-1.5.1 sgmllib3k-1.0.0 tinysegmenter-0.3 tldextract-3.0.2\n"
          ],
          "name": "stdout"
        }
      ]
    },
    {
      "cell_type": "code",
      "metadata": {
        "id": "dg7-jLjYED_k",
        "outputId": "e4827f99-665f-4846-8256-f59a01d07072",
        "colab": {
          "base_uri": "https://localhost:8080/"
        }
      },
      "source": [
        "from googlesearch import search \n",
        "import numpy as np\n",
        "import pandas as pd\n",
        "import requests\n",
        "import html5lib\n",
        "from bs4 import BeautifulSoup as btsp\n",
        "from newspaper import Article\n",
        "import spacy\n",
        "\n",
        "import nltk\n",
        "nltk.download('stopwords')\n",
        "from nltk.corpus import stopwords\n",
        "stop_words = stopwords.words('english')\n",
        "stop_words.extend(['from', 'subject', 're', 'edu', 'use'])\n",
        "\n",
        "import gensim\n",
        "import gensim.corpora as corpora\n",
        "from gensim.utils import simple_preprocess\n",
        "from gensim.models import CoherenceModel\n",
        "\n",
        "import matplotlib.pyplot as plt\n",
        "%matplotlib inline\n",
        "\n",
        "import logging\n",
        "logging.basicConfig(format='%(asctime)s : %(levelname)s : %(message)s', level=logging.ERROR)\n",
        "\n",
        "import warnings\n",
        "warnings.filterwarnings(\"ignore\",category=DeprecationWarning)"
      ],
      "execution_count": 3,
      "outputs": [
        {
          "output_type": "stream",
          "text": [
            "[nltk_data] Downloading package stopwords to /root/nltk_data...\n",
            "[nltk_data]   Unzipping corpora/stopwords.zip.\n"
          ],
          "name": "stdout"
        }
      ]
    },
    {
      "cell_type": "code",
      "metadata": {
        "id": "rNNaTn5OEqrj"
      },
      "source": [
        "#links = []\n",
        "#query = \"effect of covid on aviation industry\"\n",
        "\n",
        "#for j in search(query, tld=\"com\", num=250, stop=250, pause=2): \n",
        "#  links.append(j)\n",
        "\n",
        "  \n",
        "links = []\n",
        "query = [\"impact of COVID-19 on tourism industry\",  \"travel industry amid covid 19\"]\n",
        "\n",
        "for i in query:\n",
        "  for j in search(i, tld=\"com\", num=30, stop=30, pause=2): \n",
        "    links.append(j)\n",
        "\n",
        "links = list(dict.fromkeys(links))"
      ],
      "execution_count": 4,
      "outputs": []
    },
    {
      "cell_type": "code",
      "metadata": {
        "id": "g2wspZXxWeaG"
      },
      "source": [
        "dictionary = []\n",
        "for link in links:\n",
        "  #print(link)\n",
        "  try:\n",
        "    article = Article(link)\n",
        "    article.download()\n",
        "    article.parse()\n",
        "    text = article.text\n",
        "    dictionary += [text]   #.split(\".\")\n",
        "  except:\n",
        "    pass"
      ],
      "execution_count": 5,
      "outputs": []
    },
    {
      "cell_type": "code",
      "metadata": {
        "id": "wLNjkzFS-bjx",
        "outputId": "1d3845f2-c900-4cc7-b701-3152daae2155",
        "colab": {
          "base_uri": "https://localhost:8080/",
          "height": 157
        }
      },
      "source": [
        "dictionary[1]"
      ],
      "execution_count": 6,
      "outputs": [
        {
          "output_type": "execute_result",
          "data": {
            "application/vnd.google.colaboratory.intrinsic+json": {
              "type": "string"
            },
            "text/plain": [
              "'The development of MICE industry (meetings, incentives, conferences and events) contributes to economic diversification, stimulates the rational use of cultural and natural-recreational resources, and enables a balanced growth of the whole tourism sector (Manzoor et al., 2019; Astakhova, 2019). For the United Arab Emirates (UAE), the tourism sector is especially important as a driver of national gross domestic product (GDP). As stated by the Dubai Annual Visitor Report 2019, at the end of 2019, tourism was responsible for contributing an impressive 11.5 per cent in GDP value. Furthermore, according to the World Travel and Tourism Council’s Cities Report, Dubai’s tourism sector was ranked one of ‘Top 10’ strongest economic share generators (Dubai’s Department of Tourism and Commerce Market, 2020).\\n\\nMore than 2.3 million visitors cited business as their main purpose of travel to Dubai in 2019, marking a two per cent increase compared to 2018 (Dubai Department of Tourism and Commerce Market, 2020). According to the Dubai Annual Visitor Report, in 2019, Dubai held 301 meetings, conferences and incentives organised by Dubai Business Events, thereby bidding for 595 events in 2020. In the year 2019, Dubai World Trade Center (DWTC) welcomed its record 3.57 million delegates, which declared the visitation growth of up to four per cent from the previous year. Such an increase was driven by 349 MICE and business events, 97 of which were large scale with over 2000 attendees. Since 2019, international participation in DWTC events grew by 15 per cent (equivalent to 1.2 million visitors), underlining the strong benefits the world businesses see in coming to Dubai with the aim of sharing knowledge, networking and accelerating their development (Dubai Department of Tourism and Commerce Market, 2020). Last year, the business tourism events accounted for 3.3% of GDP, which amounts to USD 3.57 billion (Dubai World Trade Centre, 2019). The business tourism was a key element in stimulating the national economic growth and in the nearest future was supposed to reach intense development, making the UAE among the central players in the global MICE industry (Rogerson, 2017; Dubai Tourism, 2020). However, the introduced quarantine ruined these plans.\\n\\nThe COVID-19 pandemic has led to more than 4.3 million confirmed cases and more than 290.000 deaths worldwide. It raised fears of an impending economic crisis and recession. Social distancing, self-isolation, and travel restrictions have reduced the workforce in all sectors of the economy and have led to the loss of many jobs (Nicola et al., 2020; Tsindeliani, 2019).\\n\\nDue to the lack of a vaccine and very limited treatment options, non-pharmaceutical interventions occurred to be the primary strategy to contain the pandemic. Unprecedented global travel restrictions and appeals to stay at home have caused the most critical disruptions of the global economy since World War II. Given the international travel bans that affect more than 90% of the global population and widespread restrictions on public gatherings and community mobility, tourism largely ceased in March 2020 (Gössling et al., 2020). Since the quarantine introduction, millions of jobs in the global tourism sector were lost due to flight, event and hotel cancellations (Siddiquei and Khan, 2020).\\n\\nGiven that international arrivals exceeded 1.5 billion for the first time only in 2019, the long-term evolution of tourism is proved to be greatly dependent on a decade of growth since the global financial crisis. Though, this last period of unhindered business tourism development has suddenly come to an end with the COVID-19 (Brouder, 2020).\\n\\nAccompanied by quarantine in most countries and closed borders worldwide, COVID-19 pandemic heavily hit the MICE industry. The majority of domestic and international airlines were forced to cancel their flights due to severe quarantine measures and a lack of passengers, as people were frightened (Hoque et al., 2020).\\n\\nThe MICE industry was undermined by government efforts to contain and combat the pandemic. Borders were closed, trips banned, social and business events cancelled, and people were ordered to stay in their homes. By taking these actions, governments around the world sought to strike a balance between maintaining their economies and preventing dangerous levels of unemployment and deprivation. They tried to respond to public health imperatives to prevent the health systems’ collapse and mass deaths (Higgins-Desbiolles, 2020).\\n\\nAfter months of unprecedented disruptions, the United Nations World Tourism Organization (UNWTO) reported that the tourist sector begins to revive in some areas, especially in the Northern Hemisphere. At the same time, travel restrictions remained valid for most global destinations, and business tourism continued to be among the most affected sector of all (World Tourism Organization, 2020a).\\n\\nAlthough Dubai’s tourism sector announced reopening the city for international tourism on July 7, 2020, people worldwide were still afraid of travelling. Consequently, the numbers of international arrivals in Dubai were far from those before March 2020 (Dubai Tourism, 2020).\\n\\nToday, as the COVID-19 pandemic continues and the second wave is forecasted by epidemiologists, political and business leaders are wondering if the recession in the markets and the economy truly signals a recession; how serious the COVID-19 recession will be; what will be the growth and recovery scenarios, and whether there will be any lasting structural impact from the unfolding crisis. However, all the forecasts and indices will not disclose the virus trajectory, the effectiveness of containment measures, and the reactions of consumers and companies. For now, there is no single figure that can reliably reflect or foresee COVID-19’s economic impact, especially on the MICE market dependent on international travel and public events (Carlsson-Szlezak et al., 2020). Even though the pandemic has been on the run for several months only, the global and market-related losses are huge. Nevertheless, now it is extremely difficult to assess them due to the lack of sufficient statistical data and unwillingness of some companies, industries and countries, especially the developing ones, to disclose the level of economic decline (Stock, 2020).\\n\\nDespite the existence of numerous studies dedicated to COVID-19 and its estimated effect on economies and industries, poor attention was given to the global and local impact of coronavirus disease on the MICE industry and to strategies for MICE companies’ survival. The MICE industry of the UAE is chosen as a case study due to its leading position at the global MICE market before the pandemic-related crisis occurred.\\n\\nThe aim of the study is to investigate the global and local impact of COVID-19 on the MICE industry and identify a competitive survival strategy for MICE companies taking the UAE business sector as an example.\\n\\nWith the purpose of achieving the goals set, the following tasks were formulated:\\n\\nAssess the effect of coronavirus pandemic on the global tourism market and MICE industry in the UAE;\\n\\nSelect indicators of economic efficiency to compute the profitability of MICE companies in the UAE;\\n\\nSuggest a strategy for MICE business survival in the context of outsourcing in a globalised economy heavily influenced by COVID-19 (on the example of the UAE).\\n\\nLiterature review\\n\\nBusiness trips and business tours are somewhat similar in terms of event tourism education (Holloway and Humphreys, 2019). The difference lies in the very essence of the event, but the mechanisms are generally the same. The fact that Abu Dhabi and Dubai are among the most important business centres of today increases the role of business tourism and its share in the country’s tour production (Zhamgaryan, 2017). Numerous conferences, business congresses, and diplomatic visits constitute the major drivers of business tourism (Sovet et al., 2016).\\n\\nLiterature on the use of tourism infrastructure and tourism management distinguishes the following principles that most countries rely upon:\\n\\n1. Tourism and product topologies, territoriality research. 2. The presence of private and public travel companies and agencies. 3. Resources and recreational opportunities, tourist flows and service offers. 4. Independent choice of tourism agencies.\\n\\nCommunication with a client through outsourcing in business tourism creates an opportunity for world leaders in this industry to quickly grow and solve multiple problems, including the global ones caused by COVID-19 pandemic.\\n\\nTo survive, tourism agencies need to make efficient use of all reserves (Kuznetsov and Kizyan, 2017). Ensuring survival through competitiveness is a dynamic process aimed at long-term gain. The main goal of managing corporate competitiveness in the MICE industry is to create sustainable competitive advantages that can recover the position of MICE agencies and enable their financial performance in the post-pandemic environment (Nukusheva et al., 2020).\\n\\nExisting studies on competitiveness in the tourism industry emphasise the importance of infrastructure and support services for environmental sustainability (Croes, 2010; Jovanović and Ilić, 2016; Kastenholz et al., 2012; Mihalicˇ, 2013; Reitsamer and Brunner‐Sperdin, 2017; Zehrer et al., 2016). Managing tourist behaviour also contributes to sector competitiveness (Reisinger et al., 2019). Previous researchers relied on a survey of tourism experts and key tourism stakeholders (Andrades and Dimanche, 2019). Some scholars made use of a mixed (quantitative-qualitative) method to measure competitiveness of a given industry in Iran (Boroomand et al., 2019). Others have developed their own industry competitiveness indices. For instance, some authors used data from the Travel and Tourism Competitiveness Index produced by the World Economic Forum in a global analysis of industry competitiveness (Gómez-Vega and Picazo-Tadeo, 2019; Nazmfar et al., 2019), while others addressed alternative sources of information (Gu et al., 2019; Lopes et al., 2018).\\n\\nUsing structural equation modelling to the impact of tourism industry recovery and growth on environmental sustainability proves the presence of environmental degradation (Pulido-Fernández et al., 2019). The results of PROMETHEE and GAIA analysis from the competitiveness study of Portuguese tourist destinations revealed local competitors with their strengths and weaknesses. Among effective indicators are a sound tourism infrastructure and the potential of tourism destinations to grow through the adoption of public policies or private initiatives (Lopes et al., 2018).\\n\\nThe competitiveness of the MICE industry is considered with regard to subjective assumptions about competitiveness and significance of single indicators for sustainable development (Safarova, 2015). For example, Porter developed a universal model of micro-level competition. Poon’s framework for tourism competitiveness is built on innovative processes, quality, and privatisation. The WES model is a macroeconomic framework that takes into account tourism policies. In Dwyer’s model, the price component is recognised as a major component. The Crouch-Ritchie model integrates a whole range of tourism competitiveness factors, systematising global forces that pose challenges and open opportunities for tourism (Mazurek, 2014). The comparative study of Slovenia and Serbia tourism sectors using a modified IPA matrix identified the areas for improvement and actions for closing the gap between importance and performance of the MICE industry (these relate to the creation and adoption of innovative products) (Dwyer et al., 2016).'"
            ]
          },
          "metadata": {
            "tags": []
          },
          "execution_count": 6
        }
      ]
    },
    {
      "cell_type": "code",
      "metadata": {
        "id": "GmVuzBC65C0H",
        "outputId": "0b163f58-5ad5-453f-885e-1c7a7eaf2207",
        "colab": {
          "base_uri": "https://localhost:8080/",
          "height": 35
        }
      },
      "source": [
        "data = []\n",
        "for d in dictionary:\n",
        "  data += d.split(\".\")\n",
        "data[10]"
      ],
      "execution_count": 7,
      "outputs": [
        {
          "output_type": "execute_result",
          "data": {
            "application/vnd.google.colaboratory.intrinsic+json": {
              "type": "string"
            },
            "text/plain": [
              "'gov/books/NBK25497/, for more efficient work such that your work does not impact the ability of other researchers to also use our site'"
            ]
          },
          "metadata": {
            "tags": []
          },
          "execution_count": 7
        }
      ]
    },
    {
      "cell_type": "code",
      "metadata": {
        "id": "7Kvvg1t3qybd",
        "outputId": "c918e6ed-2e35-4725-d0c3-edffa2330b2b",
        "colab": {
          "base_uri": "https://localhost:8080/"
        }
      },
      "source": [
        "\n",
        "def sent_to_words(sentences):\n",
        "    for sentence in sentences:\n",
        "        yield(gensim.utils.simple_preprocess(str(sentence),\n",
        "                                             deacc=True))  # deacc=True removes punctuations\n",
        "\n",
        "data_words = list(sent_to_words(data))\n",
        "\n",
        "print(data_words[10])\n"
      ],
      "execution_count": 8,
      "outputs": [
        {
          "output_type": "stream",
          "text": [
            "['gov', 'books', 'nbk', 'for', 'more', 'efficient', 'work', 'such', 'that', 'your', 'work', 'does', 'not', 'impact', 'the', 'ability', 'of', 'other', 'researchers', 'to', 'also', 'use', 'our', 'site']\n"
          ],
          "name": "stdout"
        }
      ]
    },
    {
      "cell_type": "code",
      "metadata": {
        "id": "16ZZFf1YrA00",
        "outputId": "0b572a66-593c-445d-a955-e354ae1d2ac0",
        "colab": {
          "base_uri": "https://localhost:8080/"
        }
      },
      "source": [
        "bigram_mod = gensim.models.Phrases(data_words, min_count = 5, threshold= 100)\n",
        "trigram_mod = gensim.models.Phrases(bigram_mod[data_words], min_count=5, threshold=100)\n",
        "\n",
        "print(bigram_mod[trigram_mod[data_words[0]]])"
      ],
      "execution_count": 9,
      "outputs": [
        {
          "output_type": "stream",
          "text": [
            "/usr/local/lib/python3.6/dist-packages/gensim/models/phrases.py:598: UserWarning: For a faster implementation, use the gensim.models.phrases.Phraser class\n",
            "  warnings.warn(\"For a faster implementation, use the gensim.models.phrases.Phraser class\")\n"
          ],
          "name": "stderr"
        },
        {
          "output_type": "stream",
          "text": [
            "['access', 'denied', 'your', 'access', 'to', 'the', 'ncbi', 'website', 'at', 'www']\n"
          ],
          "name": "stdout"
        }
      ]
    },
    {
      "cell_type": "code",
      "metadata": {
        "id": "iJzqtUVufqCr"
      },
      "source": [
        "#remove stop words\n",
        "def remove_stopwords(texts):\n",
        "    return [[word for word in simple_preprocess(str(doc)) if word not in stop_words] for doc in texts]\n",
        "\n",
        "# Make Bigrams\n",
        "def make_bigrams(texts):\n",
        "    return [bigram_mod[doc] for doc in texts]\n",
        "\n",
        "# Make Bigrams\n",
        "def make_trigrams(texts):\n",
        "    return [trigram_mod[bigram_mod[doc]] for doc in texts]"
      ],
      "execution_count": 10,
      "outputs": []
    },
    {
      "cell_type": "code",
      "metadata": {
        "id": "Kc8XX-dxAJ2s"
      },
      "source": [
        "def lemmatization(texts, allowed_postags=['NOUN', 'ADJ', 'VERB', 'ADV']):\n",
        "    \"\"\"https://spacy.io/api/annotation\"\"\"\n",
        "    texts_out = []\n",
        "    for sent in texts:\n",
        "        doc = nlp(\" \".join(sent)) \n",
        "        texts_out.append([token.lemma_ for token in doc if token.pos_ in allowed_postags])\n",
        "    return texts_out"
      ],
      "execution_count": 11,
      "outputs": []
    },
    {
      "cell_type": "code",
      "metadata": {
        "id": "3zpUL7fPgjjV",
        "outputId": "7a850e28-7432-46ef-dcd4-39b2a9b62226",
        "colab": {
          "base_uri": "https://localhost:8080/"
        }
      },
      "source": [
        "stop_removed = remove_stopwords(data_words)\n",
        "bigrams = make_bigrams(stop_removed)\n",
        "trigrams = make_trigrams(stop_removed)"
      ],
      "execution_count": 51,
      "outputs": [
        {
          "output_type": "stream",
          "text": [
            "/usr/local/lib/python3.6/dist-packages/gensim/models/phrases.py:598: UserWarning: For a faster implementation, use the gensim.models.phrases.Phraser class\n",
            "  warnings.warn(\"For a faster implementation, use the gensim.models.phrases.Phraser class\")\n"
          ],
          "name": "stderr"
        }
      ]
    },
    {
      "cell_type": "code",
      "metadata": {
        "id": "XlP1Tzbfg6ZT",
        "outputId": "717c5845-b6ea-4549-e4e8-96fae7580183",
        "colab": {
          "base_uri": "https://localhost:8080/"
        }
      },
      "source": [
        "# root words conversion\n",
        "\n",
        "nlp = spacy.load('en', disable=['parser', 'ner'])\n",
        "data_lemmatized = lemmatization(trigrams, allowed_postags=['NOUN', 'ADJ', 'VERB', 'ADV'])\n",
        "\n",
        "data_lemmatized[:1]"
      ],
      "execution_count": 52,
      "outputs": [
        {
          "output_type": "execute_result",
          "data": {
            "text/plain": [
              "[['access', 'deny']]"
            ]
          },
          "metadata": {
            "tags": []
          },
          "execution_count": 52
        }
      ]
    },
    {
      "cell_type": "code",
      "metadata": {
        "id": "Z3TUl9huhXyn",
        "outputId": "f62d06b5-a548-4f8d-d041-be652aa14e93",
        "colab": {
          "base_uri": "https://localhost:8080/"
        }
      },
      "source": [
        "text = data_lemmatized\n",
        "\n",
        "# Make dictionary from the text\n",
        "id2word = corpora.Dictionary(text)\n",
        "\n",
        "#Creat corpus using bag of words\n",
        "corpus = [id2word.doc2bow(t) for t in text]\n",
        "\n",
        "[[(id2word[id], freq) for id, freq in cp] for cp in corpus[:1]]"
      ],
      "execution_count": 53,
      "outputs": [
        {
          "output_type": "execute_result",
          "data": {
            "text/plain": [
              "[[('access', 1), ('deny', 1)]]"
            ]
          },
          "metadata": {
            "tags": []
          },
          "execution_count": 53
        }
      ]
    },
    {
      "cell_type": "code",
      "metadata": {
        "id": "D8GUnS7zi8xP"
      },
      "source": [
        "# Build LDA model\n",
        "lda_model = gensim.models.ldamodel.LdaModel(corpus=corpus,\n",
        "                                           id2word=id2word,\n",
        "                                           num_topics=9, \n",
        "                                           random_state=100,\n",
        "                                           update_every=1,\n",
        "                                           chunksize=100,\n",
        "                                           passes=10,\n",
        "                                           alpha='auto',\n",
        "                                           per_word_topics=True)"
      ],
      "execution_count": 54,
      "outputs": []
    },
    {
      "cell_type": "code",
      "metadata": {
        "id": "aebYXt6Mjpfn",
        "outputId": "3adab974-8172-4f7d-bcd0-b767af957883",
        "colab": {
          "base_uri": "https://localhost:8080/"
        }
      },
      "source": [
        "\n",
        "# Print the Keyword in the 10 topics\n",
        "topics = lda_model.print_topics()\n",
        "for topic in topics:\n",
        "  print(topic)\n",
        "doc_lda = lda_model[corpus]"
      ],
      "execution_count": 55,
      "outputs": [
        {
          "output_type": "stream",
          "text": [
            "(0, '0.041*\"world\" + 0.035*\"many\" + 0.032*\"go\" + 0.029*\"see\" + 0.025*\"job\" + 0.025*\"even\" + 0.021*\"however\" + 0.020*\"plan\" + 0.020*\"back\" + 0.019*\"health\"')\n",
            "(1, '0.052*\"support\" + 0.045*\"airline\" + 0.032*\"come\" + 0.031*\"company\" + 0.029*\"open\" + 0.025*\"air\" + 0.015*\"week\" + 0.014*\"private\" + 0.012*\"hospitality\" + 0.012*\"passenger\"')\n",
            "(2, '0.120*\"tourism\" + 0.045*\"travel\" + 0.045*\"industry\" + 0.041*\"sector\" + 0.041*\"country\" + 0.028*\"covid\" + 0.020*\"crisis\" + 0.017*\"destination\" + 0.017*\"economic\" + 0.017*\"domestic\"')\n",
            "(3, '0.062*\"hotel\" + 0.062*\"year\" + 0.055*\"time\" + 0.034*\"lose\" + 0.026*\"first\" + 0.025*\"last\" + 0.021*\"flight\" + 0.021*\"revenue\" + 0.019*\"indicate\" + 0.018*\"percent\"')\n",
            "(4, '0.051*\"business\" + 0.044*\"travel\" + 0.034*\"tourist\" + 0.033*\"also\" + 0.029*\"government\" + 0.022*\"number\" + 0.021*\"visitor\" + 0.021*\"include\" + 0.021*\"region\" + 0.021*\"small\"')\n",
            "(5, '0.032*\"recovery\" + 0.027*\"local\" + 0.027*\"could\" + 0.022*\"new\" + 0.017*\"risk\" + 0.017*\"provide\" + 0.017*\"large\" + 0.014*\"trip\" + 0.014*\"opportunity\" + 0.013*\"market\"')\n",
            "(6, '0.057*\"impact\" + 0.050*\"pandemic\" + 0.031*\"change\" + 0.030*\"due\" + 0.028*\"work\" + 0.025*\"leisure\" + 0.022*\"situation\" + 0.021*\"case\" + 0.016*\"geographical\" + 0.015*\"spread\"')\n",
            "(7, '0.052*\"people\" + 0.034*\"international\" + 0.024*\"make\" + 0.019*\"economy\" + 0.018*\"measure\" + 0.017*\"stay\" + 0.017*\"high\" + 0.016*\"border\" + 0.015*\"help\" + 0.015*\"accord\"')\n",
            "(8, '0.073*\"say\" + 0.046*\"may\" + 0.039*\"traveler\" + 0.027*\"would\" + 0.022*\"worker\" + 0.019*\"allow\" + 0.018*\"cruise\" + 0.016*\"expect\" + 0.014*\"already\" + 0.014*\"restaurant\"')\n"
          ],
          "name": "stdout"
        }
      ]
    },
    {
      "cell_type": "code",
      "metadata": {
        "id": "2m8-dFbZjuLv",
        "outputId": "689b6be8-8937-4194-c7e0-20fc5a12900c",
        "colab": {
          "base_uri": "https://localhost:8080/"
        }
      },
      "source": [
        "# Compute Perplexity\n",
        "print('\\nPerplexity: ', lda_model.log_perplexity(corpus))  # a measure of how good the model is. lower the better.\n",
        "\n",
        "# Compute Coherence Score\n",
        "coherence_model_lda = CoherenceModel(model=lda_model, texts=text, \n",
        "                                     dictionary=id2word, coherence='c_v')\n",
        "coherence_lda = coherence_model_lda.get_coherence()\n",
        "print('\\nCoherence Score: ', coherence_lda)"
      ],
      "execution_count": 56,
      "outputs": [
        {
          "output_type": "stream",
          "text": [
            "\n",
            "Perplexity:  -7.71751345782832\n",
            "\n",
            "Coherence Score:  0.37599994918431073\n"
          ],
          "name": "stdout"
        }
      ]
    },
    {
      "cell_type": "code",
      "metadata": {
        "id": "oqHetkv0zLVU"
      },
      "source": [
        "def compute_coherence_values(dictionary, corpus, texts, limit, start=2, step=3):\n",
        "  coherence_values = []\n",
        "  model_list = []\n",
        "  for num_topics in range(start, limit, step):\n",
        "      model = gensim.models.ldamodel.LdaModel(corpus=corpus, num_topics=num_topics, \n",
        "                                              id2word=id2word)\n",
        "      model_list.append(model)\n",
        "      coherencemodel = CoherenceModel(model=model, texts=texts, dictionary=dictionary, \n",
        "                                      coherence='c_v')\n",
        "      coherence_values.append(coherencemodel.get_coherence())\n",
        "\n",
        "  return model_list, coherence_values"
      ],
      "execution_count": 57,
      "outputs": []
    },
    {
      "cell_type": "code",
      "metadata": {
        "id": "5ZeqzfVH4WTA"
      },
      "source": [
        "srt, end, step = 2, 50, 5\n",
        "model_list, coherence_values = compute_coherence_values(dictionary=id2word, \n",
        "                                                        corpus=corpus, \n",
        "                                                        texts=data_lemmatized, \n",
        "                                                        start=srt, \n",
        "                                                        limit=end, \n",
        "                                                        step=step)"
      ],
      "execution_count": 62,
      "outputs": []
    },
    {
      "cell_type": "code",
      "metadata": {
        "id": "k24ldh4b463f",
        "outputId": "14e636c2-0437-414a-cc9e-3972e19a3344",
        "colab": {
          "base_uri": "https://localhost:8080/",
          "height": 279
        }
      },
      "source": [
        "# Show graph\n",
        "limit=end; start=srt; step=step;\n",
        "x = range(start, limit, step)\n",
        "plt.plot(x, coherence_values)\n",
        "plt.xlabel(\"Num Topics\")\n",
        "plt.ylabel(\"Coherence score\")\n",
        "plt.legend((\"coherence_values\"), loc='best')\n",
        "plt.show()"
      ],
      "execution_count": 63,
      "outputs": [
        {
          "output_type": "display_data",
          "data": {
            "image/png": "[encoded data removed]",
            "text/plain": [
              "<Figure size 432x288 with 1 Axes>"
            ]
          },
          "metadata": {
            "tags": [],
            "needs_background": "light"
          }
        }
      ]
    },
    {
      "cell_type": "code",
      "metadata": {
        "id": "ybJnQ2jL5HsO",
        "outputId": "bb8375c5-3822-4d06-e194-5f0abaf17a49",
        "colab": {
          "base_uri": "https://localhost:8080/"
        }
      },
      "source": [
        "(np.argmax(coherence_values)*step)+srt"
      ],
      "execution_count": 66,
      "outputs": [
        {
          "output_type": "execute_result",
          "data": {
            "text/plain": [
              "32"
            ]
          },
          "metadata": {
            "tags": []
          },
          "execution_count": 66
        }
      ]
    },
    {
      "cell_type": "code",
      "metadata": {
        "id": "oKZ9YhtK6vC8",
        "outputId": "34155ddb-4715-4425-90c1-a275ed1cda43",
        "colab": {
          "base_uri": "https://localhost:8080/"
        }
      },
      "source": [
        "coherence_values"
      ],
      "execution_count": 65,
      "outputs": [
        {
          "output_type": "execute_result",
          "data": {
            "text/plain": [
              "[0.25058495106814926,\n",
              " 0.2921330315123739,\n",
              " 0.3189541811177504,\n",
              " 0.35094094953283084,\n",
              " 0.3471444669903433,\n",
              " 0.37522080920391715,\n",
              " 0.3961686337240368,\n",
              " 0.3898664579175625,\n",
              " 0.3906670693407771,\n",
              " 0.3849195763642595]"
            ]
          },
          "metadata": {
            "tags": []
          },
          "execution_count": 65
        }
      ]
    },
    {
      "cell_type": "code",
      "metadata": {
        "id": "-rbXbTok6wxp"
      },
      "source": [
        ""
      ],
      "execution_count": null,
      "outputs": []
    }
  ]
}